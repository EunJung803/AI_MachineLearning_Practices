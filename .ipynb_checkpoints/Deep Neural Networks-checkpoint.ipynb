{
 "cells": [
  {
   "cell_type": "code",
   "execution_count": 10,
   "metadata": {},
   "outputs": [],
   "source": [
    "#Implementing a DNN with PyTorch"
   ]
  },
  {
   "cell_type": "code",
   "execution_count": 12,
   "metadata": {},
   "outputs": [],
   "source": [
    "import torchvision\n",
    "import torch\n",
    "from torchvision import datasets\n",
    "from torchvision import transforms\n",
    "\n",
    "batch_size = 12\n",
    "\n",
    "train_data = datasets.MNIST('D:\\datasets', train=True, download=True, transform = transforms.ToTensor())\n",
    "test_data = datasets.MNIST('D:\\datasets', train=False, download=True, transform = transforms.ToTensor())\n",
    "\n",
    "train_loader = torch.utils.data.DataLoader(train_data, batch_size = batch_size, shuffle=True)\n",
    "test_loader = torch.utils.data.DataLoader(test_data, batch_size = batch_size)"
   ]
  },
  {
   "cell_type": "code",
   "execution_count": 17,
   "metadata": {},
   "outputs": [],
   "source": [
    "import torch.nn as nn\n",
    "import torch.optim as optim\n",
    "\n",
    "class MLP(nn.Module):\n",
    "    def __init__(self):\n",
    "        super().__init__()\n",
    "        \n",
    "        self.in_dim = 28*28 #MNIST\n",
    "        self.out_dim = 10\n",
    "        \n",
    "        self.fc1 = nn.Linear(self.in_dim, 512)\n",
    "        self.fc2 = nn.Linear(512, 256)\n",
    "        self.fc3 = nn.Linear(256, 128)\n",
    "        self.fc4 = nn.Linear(128, 64)\n",
    "        self.fc5 = nn.Linear(64, self.out_dim)\n",
    "        \n",
    "        self.relu = nn.ReLU()\n",
    "        self.log_softmax = nn.LogSoftmax()\n",
    "        \n",
    "    def forward(self, x):\n",
    "        a1 = self.relu(self.fc1(x.view(-1, self.in_dim)))\n",
    "        a2 = self.relu(self.fc2(a1))\n",
    "        a3 = self.relu(self.fc3(a2))\n",
    "        a4 = self.relu(self.fc4(a3))\n",
    "        logit = self.fc5(a4)\n",
    "        return logit"
   ]
  },
  {
   "cell_type": "code",
   "execution_count": 20,
   "metadata": {},
   "outputs": [],
   "source": [
    "model = MLP()\n",
    "criterion = nn.CrossEntropyLoss()\n",
    "optimizer = optim.SGD(model.parameters(), lr=0.01)"
   ]
  },
  {
   "cell_type": "code",
   "execution_count": 21,
   "metadata": {},
   "outputs": [
    {
     "name": "stdout",
     "output_type": "stream",
     "text": [
      "[1,  2000] loss: 2.153\n",
      "[1,  4000] loss: 0.747\n",
      "[2,  2000] loss: 0.292\n",
      "[2,  4000] loss: 0.227\n",
      "[3,  2000] loss: 0.157\n",
      "[3,  4000] loss: 0.133\n",
      "[4,  2000] loss: 0.106\n",
      "[4,  4000] loss: 0.101\n",
      "[5,  2000] loss: 0.082\n",
      "[5,  4000] loss: 0.075\n",
      "[6,  2000] loss: 0.055\n",
      "[6,  4000] loss: 0.067\n",
      "[7,  2000] loss: 0.050\n",
      "[7,  4000] loss: 0.049\n",
      "[8,  2000] loss: 0.038\n",
      "[8,  4000] loss: 0.041\n",
      "[9,  2000] loss: 0.031\n",
      "[9,  4000] loss: 0.031\n",
      "[10,  2000] loss: 0.026\n",
      "[10,  4000] loss: 0.027\n",
      "Finished Training\n"
     ]
    }
   ],
   "source": [
    "for epoch in range(10):  #loop over the dataset multiple times\n",
    "    running_loss = 0.0\n",
    "    for i, data in enumerate(train_loader, 0):\n",
    "        #get the inputs; data is a list of [inputs, labels]\n",
    "        inputs, labels = data\n",
    "        \n",
    "        #zero the parameter gradients\n",
    "        optimizer.zero_grad()\n",
    "        \n",
    "        #forward + backward + optimize\n",
    "        outputs = model(inputs)\n",
    "        loss = criterion(outputs, labels)\n",
    "        loss.backward()\n",
    "        optimizer.step()\n",
    "        \n",
    "        #print statistics\n",
    "        running_loss += loss.item()\n",
    "        if (i+1) % 2000 == 0:\n",
    "            print('[%d, %5d] loss: %.3f' %\n",
    "                    (epoch + 1, i + 1, running_loss / 2000))\n",
    "            running_loss = 0.0\n",
    "            \n",
    "print('Finished Training')"
   ]
  },
  {
   "cell_type": "code",
   "execution_count": 25,
   "metadata": {},
   "outputs": [],
   "source": [
    "import matplotlib.pyplot as plt\n",
    "import numpy as np\n",
    "\n",
    "def imshow(img):\n",
    "    npimg = img.numpy()\n",
    "    plt.imshow(np.transpose(npimg, (1,2,0)))\n",
    "    plt.show()"
   ]
  },
  {
   "cell_type": "code",
   "execution_count": 26,
   "metadata": {},
   "outputs": [
    {
     "data": {
      "image/png": "[encoded data removed]",
      "text/plain": [
       "<Figure size 432x288 with 1 Axes>"
      ]
     },
     "metadata": {
      "needs_background": "light"
     },
     "output_type": "display_data"
    },
    {
     "name": "stdout",
     "output_type": "stream",
     "text": [
      "GroundTruth\n",
      "   7   2   1   0   4   1   4   9   5   9   0   6\n",
      "Prediction\n",
      "   7   2   1   0   4   1   4   9   5   9   0   6\n"
     ]
    }
   ],
   "source": [
    "dataiter = iter(test_loader)\n",
    "images, labels = dataiter.next()\n",
    "\n",
    "imshow(torchvision.utils.make_grid(images, nrow = batch_size))\n",
    "print('GroundTruth')\n",
    "print(\" \" + ' '.join('%3s' % label.item() for label in labels))\n",
    "\n",
    "outputs = model(images)\n",
    "_, predicted = torch.max(outputs, 1)\n",
    "print(\"Prediction\")\n",
    "print(\" \" + ' '.join('%3s' % label.item() for label in predicted))"
   ]
  },
  {
   "cell_type": "code",
   "execution_count": 36,
   "metadata": {},
   "outputs": [
    {
     "name": "stdout",
     "output_type": "stream",
     "text": [
      "7063/10000\n",
      "Accuracy: 0.706\n"
     ]
    }
   ],
   "source": [
    "n_predict = 0\n",
    "n_correct = 0\n",
    "\n",
    "for data in test_loader:\n",
    "    inputs, labels = data\n",
    "    outputs = model(inputs)\n",
    "    _, predicted = torch.max(outputs, 1)\n",
    "    \n",
    "    n_predict += len(predicted)\n",
    "    n_correct += (labels == predicted).sum()\n",
    "    \n",
    "print(f\"{n_correct}/{n_predict}\")\n",
    "print(f\"Accuracy: {n_correct/n_predict:.3f}\")"
   ]
  },
  {
   "cell_type": "code",
   "execution_count": 37,
   "metadata": {},
   "outputs": [],
   "source": [
    "# A DNN with hyper parameters\n",
    "\n",
    "class MLP_h(nn.Module):\n",
    "    def __init__(self, hidden_units = [512, 256, 128]):\n",
    "        super().__init__()\n",
    "        \n",
    "        self.in_dim = 28*28 #MNIST\n",
    "        self.out_dim = 10\n",
    "        \n",
    "        self.l_layers = []\n",
    "        self.l_layers.append(nn.Linear(self.in_dim, hidden_units[0]))\n",
    "        \n",
    "        for i in range(len(hidden_units)-1):\n",
    "            self.l_layers.append(nn.Linear(hidden_units[i], hidden_units[i+1]))\n",
    "        self.l_layers.append(nn.Linear(hidden_units[-1], self.out_dim))\n",
    "        \n",
    "        self.l_layers = nn.ModuleList(self.l_layers)\n",
    "        \n",
    "        self.relu = nn.ReLU()\n",
    "        self.log_softmax = nn.LogSoftmax()\n",
    "        \n",
    "    def forward(self, x):\n",
    "        a = x.view(-1, self.in_dim)\n",
    "        for l in range(len(self.l_layers)):\n",
    "            z = self.l_layers[l](a)\n",
    "            if l == len(self.l_layers) - 1:\n",
    "                logit = z\n",
    "            else:\n",
    "                a = self.relu(z)\n",
    "                \n",
    "        return logit"
   ]
  },
  {
   "cell_type": "code",
   "execution_count": 32,
   "metadata": {},
   "outputs": [],
   "source": [
    "model = MLP_h([2,3])\n",
    "criterion = nn.CrossEntropyLoss()\n",
    "optimizer = optim.SGD(model.parameters(), lr = 0.01)"
   ]
  },
  {
   "cell_type": "code",
   "execution_count": 33,
   "metadata": {},
   "outputs": [
    {
     "name": "stdout",
     "output_type": "stream",
     "text": [
      "[1,  2000] loss: 2.188\n",
      "[1,  4000] loss: 1.818\n",
      "[2,  2000] loss: 1.416\n",
      "[2,  4000] loss: 1.293\n",
      "[3,  2000] loss: 1.129\n",
      "[3,  4000] loss: 1.089\n",
      "[4,  2000] loss: 1.047\n",
      "[4,  4000] loss: 1.033\n",
      "[5,  2000] loss: 1.024\n",
      "[5,  4000] loss: 1.000\n",
      "[6,  2000] loss: 0.997\n",
      "[6,  4000] loss: 0.988\n",
      "[7,  2000] loss: 0.983\n",
      "[7,  4000] loss: 0.966\n",
      "[8,  2000] loss: 0.969\n",
      "[8,  4000] loss: 0.965\n",
      "[9,  2000] loss: 0.961\n",
      "[9,  4000] loss: 0.946\n",
      "[10,  2000] loss: 0.958\n",
      "[10,  4000] loss: 0.937\n",
      "Finished Training\n"
     ]
    }
   ],
   "source": [
    "for epoch in range(10):  #loop over the dataset multiple times\n",
    "    running_loss = 0.0\n",
    "    for i, data in enumerate(train_loader, 0):\n",
    "        #get the inputs; data is a list of [inputs, labels]\n",
    "        inputs, labels = data\n",
    "        \n",
    "        #zero the parameter gradients\n",
    "        optimizer.zero_grad()\n",
    "        \n",
    "        #forward + backward + optimize\n",
    "        outputs = model(inputs)\n",
    "        loss = criterion(outputs, labels)\n",
    "        loss.backward()\n",
    "        optimizer.step()\n",
    "        \n",
    "        #print statistics\n",
    "        running_loss += loss.item()\n",
    "        if (i+1) % 2000 == 0:\n",
    "            print('[%d, %5d] loss: %.3f' %\n",
    "                    (epoch + 1, i + 1, running_loss / 2000))\n",
    "            running_loss = 0.0\n",
    "            \n",
    "print('Finished Training')"
   ]
  },
  {
   "cell_type": "code",
   "execution_count": 38,
   "metadata": {},
   "outputs": [
    {
     "data": {
      "image/png": "[encoded data removed]",
      "text/plain": [
       "<Figure size 432x288 with 1 Axes>"
      ]
     },
     "metadata": {
      "needs_background": "light"
     },
     "output_type": "display_data"
    },
    {
     "name": "stdout",
     "output_type": "stream",
     "text": [
      "GroundTruth\n",
      "   7   2   1   0   4   1   4   9   5   9   0   6\n",
      "Prediction\n",
      "   7   2   1   0   4   1   4   9   6   9   0   5\n"
     ]
    }
   ],
   "source": [
    "dataiter = iter(test_loader)\n",
    "images, labels = dataiter.next()\n",
    "\n",
    "imshow(torchvision.utils.make_grid(images, nrow = batch_size))\n",
    "print('GroundTruth')\n",
    "print(\" \" + ' '.join('%3s' % label.item() for label in labels))\n",
    "\n",
    "outputs = model(images)\n",
    "_, predicted = torch.max(outputs, 1)\n",
    "print(\"Prediction\")\n",
    "print(\" \" + ' '.join('%3s' % label.item() for label in predicted))"
   ]
  },
  {
   "cell_type": "code",
   "execution_count": null,
   "metadata": {},
   "outputs": [],
   "source": []
  }
 ],
 "metadata": {
  "kernelspec": {
   "display_name": "Python 3",
   "language": "python",
   "name": "python3"
  },
  "language_info": {
   "codemirror_mode": {
    "name": "ipython",
    "version": 3
   },
   "file_extension": ".py",
   "mimetype": "text/x-python",
   "name": "python",
   "nbconvert_exporter": "python",
   "pygments_lexer": "ipython3",
   "version": "3.7.6"
  }
 },
 "nbformat": 4,
 "nbformat_minor": 4
}
