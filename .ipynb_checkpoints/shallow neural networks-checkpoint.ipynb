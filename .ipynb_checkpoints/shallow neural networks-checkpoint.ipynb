{
 "cells": [
  {
   "cell_type": "code",
   "execution_count": 1,
   "metadata": {},
   "outputs": [],
   "source": [
    "import numpy as np\n",
    "import matplotlib.pyplot as plt\n",
    "x_seeds=np.array([(0,0),(1,0),(0,1),(1,1)],dtype=np.float)\n",
    "y_seeds=np.array([0,1,1,0])"
   ]
  },
  {
   "cell_type": "code",
   "execution_count": 2,
   "metadata": {},
   "outputs": [],
   "source": [
    "N=1000\n",
    "idxs=np.random.randint(0,4,N)"
   ]
  },
  {
   "cell_type": "code",
   "execution_count": 3,
   "metadata": {},
   "outputs": [],
   "source": [
    "X=x_seeds[idxs]\n",
    "Y=y_seeds[idxs]"
   ]
  },
  {
   "cell_type": "code",
   "execution_count": 4,
   "metadata": {},
   "outputs": [],
   "source": [
    "X += np.random.normal(scale=0.25, size=X.shape)"
   ]
  },
  {
   "cell_type": "code",
   "execution_count": 5,
   "metadata": {},
   "outputs": [],
   "source": [
    "idxs_1=np.where(Y==1)\n",
    "idxs_0=np.where(Y==0)"
   ]
  },
  {
   "cell_type": "code",
   "execution_count": 6,
   "metadata": {},
   "outputs": [],
   "source": [
    "X_0=X[idxs_0]\n",
    "Y_0=Y[idxs_0]"
   ]
  },
  {
   "cell_type": "code",
   "execution_count": 7,
   "metadata": {},
   "outputs": [],
   "source": [
    "X_1=X[idxs_1]\n",
    "Y_1=Y[idxs_1]"
   ]
  },
  {
   "cell_type": "code",
   "execution_count": 8,
   "metadata": {},
   "outputs": [
    {
     "data": {
      "image/png": "[encoded data removed]",
      "text/plain": [
       "<Figure size 432x288 with 1 Axes>"
      ]
     },
     "metadata": {
      "needs_background": "light"
     },
     "output_type": "display_data"
    }
   ],
   "source": [
    "plt.plot(X_0[:,0],X_0[:,1],\"r^\")\n",
    "plt.plot(X_1[:,0],X_1[:,1],\"bx\")\n",
    "plt.show()"
   ]
  },
  {
   "cell_type": "code",
   "execution_count": 9,
   "metadata": {},
   "outputs": [],
   "source": [
    "import numpy as np\n",
    "class shallow_neural_network():\n",
    "    def __init__(self, num_input_features, num_hiddens):\n",
    "        self.num_input_features=num_input_features\n",
    "        self.num_hiddens=num_hiddens\n",
    "        \n",
    "        self.W1=np.random.normal(size=(num_hiddens, num_input_features))\n",
    "        self.b1=np.random.normal(size=num_hiddens)\n",
    "        self.W2=np.random.normal(size=num_hiddens)\n",
    "        self.b2=np.random.normal(size=1)\n",
    "\n",
    "    def sigmoid(self,z):\n",
    "        return 1/(1+np.exp(-z))\n",
    "    \n",
    "    def predict(self,x):\n",
    "        z1=np.matmul(self.W1,x)+self.b1\n",
    "        a1=np.tanh(z1)\n",
    "        z2=np.matmul(self.W2,a1)+self.b2\n",
    "        a2=self.sigmoid(z2)\n",
    "        return a2, (z1,a1,z2,a2)\n",
    "        "
   ]
  },
  {
   "cell_type": "code",
   "execution_count": 10,
   "metadata": {},
   "outputs": [],
   "source": [
    "model=shallow_neural_network(2,3)"
   ]
  },
  {
   "cell_type": "code",
   "execution_count": 19,
   "metadata": {},
   "outputs": [],
   "source": [
    "def train(X,Y,model, lr=0.1):\n",
    "    dW1=np.zeros_like(model.W1)\n",
    "    db1=np.zeros_like(model.b1)\n",
    "    dW2=np.zeros_like(model.W2)\n",
    "    db2=np.zeros_like(model.b2)\n",
    "    m=len(X)\n",
    "    cost=0.0\n",
    "    for x,y in zip(X,Y):\n",
    "        a2, (z1,a1,z2, _) = model.predict(x)\n",
    "        if y == 1:\n",
    "            cost -= np.log(a2)\n",
    "        else:\n",
    "            cost -= np.log(1-a2)\n",
    "            \n",
    "        diff = a2-y\n",
    "        \n",
    "        db2 += diff\n",
    "        \n",
    "        \n",
    "        #for i in range(model.num_hiddens):\n",
    "        #    dW2[i] += a1[i]*diff\n",
    "        dW2 += a1 * diff\n",
    "                \n",
    "        #for i in range(model.num_hiddens):\n",
    "        #    db1[i] += (1-a1[i]**2)*model.W2[i]*diff\n",
    "        db1 += np.multiply(1-np.square(a1), model.W2) * diff\n",
    "            \n",
    "        #for i in range(model.num_hiddens):\n",
    "        #    for j in range(model.num_input_features):\n",
    "        #        dW1[i,j] += x[j]*(1-a1[i]**2)*model.W2[i]*diff\n",
    "        dW1 += np.outer(np.multiply(1-np.square(a1),model.W2)*diff, x)\n",
    "\n",
    "    cost /= m\n",
    "    model.W1 -= lr*dW1/m\n",
    "    model.b1 -= lr*db1/m\n",
    "    model.W2 -= lr*dW2/m\n",
    "    model.b2 -= lr*db2/m\n",
    "    \n",
    "    return cost"
   ]
  },
  {
   "cell_type": "code",
   "execution_count": 20,
   "metadata": {},
   "outputs": [
    {
     "name": "stdout",
     "output_type": "stream",
     "text": [
      "0 [0.61199262]\n",
      "10 [0.56616492]\n",
      "20 [0.48405048]\n",
      "30 [0.43536932]\n",
      "40 [0.40812818]\n",
      "50 [0.38933986]\n",
      "60 [0.37537248]\n",
      "70 [0.36465715]\n",
      "80 [0.35625538]\n",
      "90 [0.34953105]\n"
     ]
    }
   ],
   "source": [
    "for epoch in range(100):\n",
    "    cost = train(X,Y,model, 1.0)\n",
    "    if epoch % 10 ==0:\n",
    "        print(epoch, cost)"
   ]
  },
  {
   "cell_type": "code",
   "execution_count": 21,
   "metadata": {},
   "outputs": [
    {
     "data": {
      "text/plain": [
       "0.0921878846936659"
      ]
     },
     "execution_count": 21,
     "metadata": {},
     "output_type": "execute_result"
    }
   ],
   "source": [
    "model.predict((1,1))[0].item()"
   ]
  },
  {
   "cell_type": "code",
   "execution_count": 22,
   "metadata": {},
   "outputs": [
    {
     "data": {
      "text/plain": [
       "0.95842232785482"
      ]
     },
     "execution_count": 22,
     "metadata": {},
     "output_type": "execute_result"
    }
   ],
   "source": [
    "model.predict((1,0))[0].item()"
   ]
  },
  {
   "cell_type": "code",
   "execution_count": 23,
   "metadata": {},
   "outputs": [
    {
     "data": {
      "text/plain": [
       "0.6514162311947544"
      ]
     },
     "execution_count": 23,
     "metadata": {},
     "output_type": "execute_result"
    }
   ],
   "source": [
    "model.predict((0,1))[0].item()"
   ]
  },
  {
   "cell_type": "code",
   "execution_count": 24,
   "metadata": {},
   "outputs": [
    {
     "data": {
      "text/plain": [
       "0.014491234645183962"
      ]
     },
     "execution_count": 24,
     "metadata": {},
     "output_type": "execute_result"
    }
   ],
   "source": [
    "model.predict((0,0))[0].item()"
   ]
  },
  {
   "cell_type": "code",
   "execution_count": null,
   "metadata": {},
   "outputs": [],
   "source": []
  },
  {
   "cell_type": "code",
   "execution_count": null,
   "metadata": {},
   "outputs": [],
   "source": []
  }
 ],
 "metadata": {
  "kernelspec": {
   "display_name": "Python 3",
   "language": "python",
   "name": "python3"
  },
  "language_info": {
   "codemirror_mode": {
    "name": "ipython",
    "version": 3
   },
   "file_extension": ".py",
   "mimetype": "text/x-python",
   "name": "python",
   "nbconvert_exporter": "python",
   "pygments_lexer": "ipython3",
   "version": "3.7.6"
  }
 },
 "nbformat": 4,
 "nbformat_minor": 2
}
