{
 "cells": [
  {
   "cell_type": "code",
   "execution_count": 6,
   "metadata": {},
   "outputs": [],
   "source": [
    "#AND\n",
    "\n",
    "import numpy as np\n",
    "import matplotlib.pyplot as plt\n",
    "import random\n",
    "from math import exp,log\n",
    "\n",
    "X = np.array([(0,0),(1,0),(0,1),(1,1)]) #X=[(0,0),(1,0),(0,1),(1,1)]\n",
    "Y = np.array([0,0,0,1]) #AND operation\n"
   ]
  },
  {
   "cell_type": "code",
   "execution_count": 15,
   "metadata": {},
   "outputs": [
    {
     "name": "stdout",
     "output_type": "stream",
     "text": [
      "0 0.6818712875383589\n",
      "100 0.45440346067448967\n",
      "200 0.35856382917558816\n",
      "300 0.29873583696005496\n",
      "400 0.2573127057944295\n",
      "500 0.22656906232379223\n",
      "600 0.2026454338434644\n",
      "700 0.1833929469568355\n",
      "800 0.1675094246830317\n",
      "900 0.15415228073857526\n",
      "1000 0.14274766049639936\n",
      "1100 0.13288856375750357\n",
      "1200 0.12427677034385615\n",
      "1300 0.11668787574075962\n",
      "1400 0.10994925522175816\n",
      "1500 0.10392563005659347\n",
      "1600 0.09850929848179608\n",
      "1700 0.09361333600120267\n",
      "1800 0.0891667467815026\n",
      "1900 0.0851109330132254\n",
      "2000 0.08139707636614325\n",
      "2100 0.07798416424930973\n",
      "2200 0.07483748059425441\n",
      "2300 0.07192743695036038\n",
      "2400 0.06922865666877774\n",
      "2500 0.06671924986830707\n",
      "2600 0.06438023398387997\n",
      "2700 0.06219506664699055\n",
      "2800 0.06014926612450529\n",
      "2900 0.058230100642627625\n",
      "3000 0.056426332370351724\n",
      "3100 0.05472800511832675\n",
      "3200 0.053126267257154795\n",
      "3300 0.051613223204138206\n",
      "3400 0.05018180823113157\n",
      "3500 0.04882568242341298\n",
      "3600 0.047539140453036435\n",
      "3700 0.04631703448004201\n",
      "3800 0.04515470800526291\n",
      "3900 0.04404793890194472\n",
      "4000 0.04299289017438708\n",
      "4100 0.041986067248710984\n",
      "4200 0.041024280807616206\n",
      "4300 0.04010461434827807\n",
      "4400 0.03922439577858087\n",
      "4500 0.03838117247804354\n",
      "4600 0.0375726893410419\n",
      "4700 0.03679686939515633\n",
      "4800 0.036051796649749834\n",
      "4900 0.03533570088163659\n",
      "5000 0.034646944107881536\n",
      "5100 0.03398400853192807\n",
      "5200 0.03334548577962104\n",
      "5300 0.03273006726731025\n",
      "5400 0.0321365355658662\n",
      "5500 0.031563756642820136\n",
      "5600 0.031010672880466716\n",
      "5700 0.03047629678110973\n",
      "5800 0.029959705282039374\n",
      "5900 0.02946003461262334\n",
      "6000 0.028976475634311917\n",
      "6100 0.02850826961162025\n",
      "6200 0.028054704368422473\n",
      "6300 0.027615110789331196\n",
      "6400 0.027188859630653726\n",
      "6500 0.026775358609523868\n",
      "6600 0.026374049743386987\n",
      "6700 0.025984406915147272\n",
      "6800 0.025605933642021433\n",
      "6900 0.025238161028548534\n",
      "7000 0.024880645886314265\n",
      "7100 0.02453296900480724\n",
      "7200 0.02419473355946384\n",
      "7300 0.023865563644406482\n",
      "7400 0.023545102918658994\n",
      "7500 0.023233013355762902\n",
      "7600 0.022928974087719323\n",
      "7700 0.022632680335086378\n",
      "7800 0.022343842415850912\n",
      "7900 0.022062184826411632\n",
      "8000 0.021787445388642586\n",
      "8100 0.02151937445757584\n",
      "8200 0.021257734184748817\n",
      "8300 0.02100229783272151\n",
      "8400 0.020752849136673884\n",
      "8500 0.02050918170936534\n",
      "8600 0.02027109848606881\n",
      "8700 0.02003841120638761\n",
      "8800 0.01981093993013798\n",
      "8900 0.019588512584717284\n",
      "9000 0.019370964541603385\n",
      "9100 0.019158138219824948\n",
      "9200 0.018949882714427137\n",
      "9300 0.018746053448116848\n",
      "9400 0.018546511844423793\n",
      "9500 0.018351125020845495\n",
      "9600 0.018159765500570205\n",
      "9700 0.01797231094148084\n",
      "9800 0.017788643881247675\n",
      "9900 0.017608651497408374\n"
     ]
    }
   ],
   "source": [
    "class logistic_regression_model():\n",
    "    def __init__(self):\n",
    "        self.w = np.array([random.random(), random.random()])\n",
    "        self.b = np.random.normal() #np.array(random.random()) / np.random.normal()\n",
    "    \n",
    "    def sigmoid(self, z):\n",
    "        return 1/(1+exp(-z))\n",
    "    \n",
    "    def predict(self, x):\n",
    "        z = np.inner(self.w, x)+self.b  #z = self.w[0] * x[0] + self.w[1] * x[1] + self.b\n",
    "        a = self.sigmoid(z)\n",
    "        return a\n",
    "\n",
    "model_AND=logistic_regression_model()\n",
    "lr = 0.1\n",
    "\n",
    "def train(X,Y,model_AND,lr):\n",
    "    dw0=0.0\n",
    "    dw1=0.0\n",
    "    db=0.0\n",
    "    m=len(X)\n",
    "    cost=0.0\n",
    "    for x,y in zip(X,Y):\n",
    "        a=model_AND.predict(x)\n",
    "        if y==1:\n",
    "            cost -= log(a)\n",
    "        else:\n",
    "            cost -= log(1-a)\n",
    "            \n",
    "        dw0 += (a-y)*x[0]\n",
    "        dw1 += (a-y)*x[1]\n",
    "        db += (a-y)\n",
    "        \n",
    "    cost /= m\n",
    "    model_AND.w[0] -= lr*dw0/m\n",
    "    model_AND.w[1] -= lr*dw1/m\n",
    "    model_AND.b -= lr*db/m\n",
    "    \n",
    "    return cost\n",
    "\n",
    "xdata_1 = []\n",
    "ydata_1 = []\n",
    "\n",
    "for epoch in range(10000):\n",
    "    cost1 = train(X,Y,model_AND, lr)\n",
    "    \n",
    "    if epoch % 100 ==0:\n",
    "        print(epoch,cost1)\n",
    "        \n",
    "        xdata_1.append(epoch)\n",
    "        ydata_1.append(cost1)\n",
    "        "
   ]
  },
  {
   "cell_type": "code",
   "execution_count": 8,
   "metadata": {},
   "outputs": [
    {
     "data": {
      "text/plain": [
       "1.213487872671769e-05"
      ]
     },
     "execution_count": 8,
     "metadata": {},
     "output_type": "execute_result"
    }
   ],
   "source": [
    "model_AND.predict((0,0))"
   ]
  },
  {
   "cell_type": "code",
   "execution_count": 9,
   "metadata": {},
   "outputs": [
    {
     "data": {
      "text/plain": [
       "0.020071392527624597"
      ]
     },
     "execution_count": 9,
     "metadata": {},
     "output_type": "execute_result"
    }
   ],
   "source": [
    "model_AND.predict((0,1))"
   ]
  },
  {
   "cell_type": "code",
   "execution_count": 10,
   "metadata": {},
   "outputs": [
    {
     "data": {
      "text/plain": [
       "0.02007139525213544"
      ]
     },
     "execution_count": 10,
     "metadata": {},
     "output_type": "execute_result"
    }
   ],
   "source": [
    "model_AND.predict((1,0))"
   ]
  },
  {
   "cell_type": "code",
   "execution_count": 11,
   "metadata": {},
   "outputs": [
    {
     "data": {
      "text/plain": [
       "0.9718880635212185"
      ]
     },
     "execution_count": 11,
     "metadata": {},
     "output_type": "execute_result"
    }
   ],
   "source": [
    "model_AND.predict((1,1))"
   ]
  },
  {
   "cell_type": "code",
   "execution_count": 12,
   "metadata": {},
   "outputs": [],
   "source": [
    "class logistic_regression_model():\n",
    "    def __init__(self):\n",
    "        self.w = np.array([random.random(), random.random()])\n",
    "        self.b = np.random.normal() #np.array(random.random()) / np.random.normal()\n",
    "    \n",
    "    def sigmoid(self, z):\n",
    "        return 1/(1+exp(-z))\n",
    "    \n",
    "    def predict(self, x):\n",
    "        z = np.inner(self.w, x)+self.b  #z = self.w[0] * x[0] + self.w[1] * x[1] + self.b\n",
    "        a = self.sigmoid(z)\n",
    "        return a\n",
    "\n",
    "model_AND=logistic_regression_model()\n",
    "lr = 0.01\n",
    "\n",
    "def train(X,Y,model_AND,lr):\n",
    "    dw0=0.0\n",
    "    dw1=0.0\n",
    "    db=0.0\n",
    "    m=len(X)\n",
    "    cost=0.0\n",
    "    for x,y in zip(X,Y):\n",
    "        a=model_AND.predict(x)\n",
    "        if y==1:\n",
    "            cost -= log(a)\n",
    "        else:\n",
    "            cost -= log(1-a)\n",
    "            \n",
    "        dw0 += (a-y)*x[0]\n",
    "        dw1 += (a-y)*x[1]\n",
    "        db += (a-y)\n",
    "        \n",
    "    cost /= m\n",
    "    model_AND.w[0] -= lr*dw0/m\n",
    "    model_AND.w[1] -= lr*dw1/m\n",
    "    model_AND.b -= lr*db/m\n",
    "    \n",
    "    return cost\n",
    "\n",
    "xdata_2 = []\n",
    "ydata_2 = []\n",
    "\n",
    "for epoch in range(10000):\n",
    "    cost2 = train(X,Y,model_AND, lr)\n",
    "    \n",
    "    if epoch % 100 ==0:\n",
    "        #print(epoch,cost)\n",
    "        \n",
    "        xdata_2.append(epoch)\n",
    "        ydata_2.append(cost2)"
   ]
  },
  {
   "cell_type": "code",
   "execution_count": 13,
   "metadata": {},
   "outputs": [],
   "source": [
    "class logistic_regression_model():\n",
    "    def __init__(self):\n",
    "        self.w = np.array([random.random(), random.random()])\n",
    "        self.b = np.random.normal() #np.array(random.random()) / np.random.normal()\n",
    "    \n",
    "    def sigmoid(self, z):\n",
    "        return 1/(1+exp(-z))\n",
    "    \n",
    "    def predict(self, x):\n",
    "        z = np.inner(self.w, x)+self.b  #z = self.w[0] * x[0] + self.w[1] * x[1] + self.b\n",
    "        a = self.sigmoid(z)\n",
    "        return a\n",
    "\n",
    "model_AND=logistic_regression_model()\n",
    "lr = 0.7\n",
    "\n",
    "def train(X,Y,model_AND,lr):\n",
    "    dw0=0.0\n",
    "    dw1=0.0\n",
    "    db=0.0\n",
    "    m=len(X)\n",
    "    cost=0.0\n",
    "    for x,y in zip(X,Y):\n",
    "        a=model_AND.predict(x)\n",
    "        if y==1:\n",
    "            cost -= log(a)\n",
    "        else:\n",
    "            cost -= log(1-a)\n",
    "            \n",
    "        dw0 += (a-y)*x[0]\n",
    "        dw1 += (a-y)*x[1]\n",
    "        db += (a-y)\n",
    "        \n",
    "    cost /= m\n",
    "    model_AND.w[0] -= lr*dw0/m\n",
    "    model_AND.w[1] -= lr*dw1/m\n",
    "    model_AND.b -= lr*db/m\n",
    "    \n",
    "    return cost\n",
    "\n",
    "xdata_3 = []\n",
    "ydata_3 = []\n",
    "\n",
    "for epoch in range(10000):\n",
    "    cost3 = train(X,Y,model_AND, lr)\n",
    "    \n",
    "    if epoch % 100 ==0:\n",
    "        #print(epoch,cost)\n",
    "        \n",
    "        xdata_3.append(epoch)\n",
    "        ydata_3.append(cost3)"
   ]
  },
  {
   "cell_type": "code",
   "execution_count": 14,
   "metadata": {},
   "outputs": [
    {
     "data": {
      "image/png": "[encoded data removed]",
      "text/plain": [
       "<Figure size 432x288 with 1 Axes>"
      ]
     },
     "metadata": {
      "needs_background": "light"
     },
     "output_type": "display_data"
    }
   ],
   "source": [
    "plt.plot(xdata_1, ydata_1)\n",
    "plt.plot(xdata_2, ydata_2)\n",
    "plt.plot(xdata_3, ydata_3)\n",
    "\n",
    "plt.xlabel('epoch')\n",
    "plt.ylabel('loss')\n",
    "plt.legend(['0.1', '0.01', '0.7'])\n",
    "plt.show()"
   ]
  },
  {
   "cell_type": "code",
   "execution_count": null,
   "metadata": {},
   "outputs": [],
   "source": []
  },
  {
   "cell_type": "code",
   "execution_count": 19,
   "metadata": {},
   "outputs": [],
   "source": [
    "#OR\n",
    "\n",
    "import numpy as np\n",
    "import matplotlib.pyplot as plt\n",
    "import random\n",
    "from math import exp,log\n",
    "\n",
    "X = np.array([(0,0),(1,0),(0,1),(1,1)]) #X=[(0,0),(1,0),(0,1),(1,1)]\n",
    "Y = np.array([0,1,1,1]) #Y=[0,1,1,1] OR operation"
   ]
  },
  {
   "cell_type": "code",
   "execution_count": 28,
   "metadata": {},
   "outputs": [
    {
     "name": "stdout",
     "output_type": "stream",
     "text": [
      "0 0.5003222269590876\n",
      "100 0.33226511873083275\n",
      "200 0.26076375115628625\n",
      "300 0.21316954776927996\n",
      "400 0.17947081001856405\n",
      "500 0.15447739949264247\n",
      "600 0.13526425799674402\n",
      "700 0.12007406974484289\n",
      "800 0.1077904617377965\n",
      "900 0.09767113504060443\n",
      "1000 0.08920387095359333\n",
      "1100 0.08202423956389478\n",
      "1200 0.07586621808194294\n",
      "1300 0.07053131967638865\n",
      "1400 0.06586861634049992\n",
      "1500 0.061761425003224873\n",
      "1600 0.05811820573599188\n",
      "1700 0.05486619955746146\n",
      "1800 0.051946893030367355\n",
      "1900 0.049312728045512365\n",
      "2000 0.04692467712732658\n",
      "2100 0.04475043101615285\n",
      "2200 0.042763026308132675\n",
      "2300 0.04093979397069861\n",
      "2400 0.039261544935172345\n",
      "2500 0.03771193298550182\n",
      "2600 0.03627695172416322\n",
      "2700 0.034944533983773764\n",
      "2800 0.033704230269149746\n",
      "2900 0.032546948712728875\n",
      "3000 0.03146474330933024\n",
      "3100 0.03045064033985074\n",
      "3200 0.029498495223999534\n",
      "3300 0.028602873786098243\n",
      "3400 0.02775895323448037\n",
      "3500 0.026962439157112453\n",
      "3600 0.026209495604784465\n",
      "3700 0.025496685927270907\n",
      "3800 0.024820922490153923\n",
      "3900 0.024179423762119602\n",
      "4000 0.023569677547974087\n",
      "4100 0.022989409368967536\n",
      "4200 0.022436555172499633\n",
      "4300 0.021909237697989244\n",
      "4400 0.021405745942305928\n",
      "4500 0.02092451726260233\n",
      "4600 0.020464121731226546\n",
      "4700 0.020023248420197707\n",
      "4800 0.019600693344278587\n",
      "4900 0.019195348834166907\n",
      "5000 0.018806194146486842\n",
      "5100 0.018432287146466587\n",
      "5200 0.018072756923532097\n",
      "5300 0.01772679722041834\n",
      "5400 0.017393660573494\n",
      "5500 0.017072653076396754\n",
      "5600 0.016763129691238825\n",
      "5700 0.01646449004195176\n",
      "5800 0.01617617463309778\n",
      "5900 0.01589766144494205\n",
      "6000 0.01562846286195801\n",
      "6100 0.015368122897407866\n",
      "6200 0.015116214681330658\n",
      "6300 0.014872338183318993\n",
      "6400 0.014636118144953495\n",
      "6500 0.014407202199783168\n",
      "6600 0.014185259161359579\n",
      "6700 0.013969977462108296\n",
      "6800 0.01376106372780216\n",
      "6900 0.013558241474130095\n",
      "7000 0.013361249913367913\n",
      "7100 0.013169842860480941\n",
      "7200 0.012983787729153658\n",
      "7300 0.01280286460925885\n",
      "7400 0.012626865418185208\n",
      "7500 0.012455593119233424\n",
      "7600 0.012288861000992385\n",
      "7700 0.01212649201223266\n",
      "7800 0.011968318147401744\n",
      "7900 0.011814179878298556\n",
      "8000 0.011663925627938398\n",
      "8100 0.01151741128300702\n",
      "8200 0.011374499741651634\n",
      "8300 0.01123506049366189\n",
      "8400 0.011098969230374598\n",
      "8500 0.010966107481878705\n",
      "8600 0.010836362279325983\n",
      "8700 0.010709625840344851\n",
      "8800 0.010585795275741217\n",
      "8900 0.010464772315826007\n",
      "9000 0.01034646305485991\n",
      "9100 0.010230777712232074\n",
      "9200 0.010117630409112618\n",
      "9300 0.010006938959424134\n",
      "9400 0.009898624674073856\n",
      "9500 0.009792612177478736\n",
      "9600 0.009688829235492726\n",
      "9700 0.009587206593921519\n",
      "9800 0.00948767782687165\n",
      "9900 0.00939017919424661\n"
     ]
    }
   ],
   "source": [
    "class logistic_regression_model():\n",
    "    def __init__(self):\n",
    "        self.w = np.array([random.random(), random.random()])\n",
    "        self.b = np.random.normal() #np.array(random.random()) / np.random.normal()\n",
    "    \n",
    "    def sigmoid(self, z):\n",
    "        return 1/(1+exp(-z))\n",
    "    \n",
    "    def predict(self, x):\n",
    "        z = np.inner(self.w, x)+self.b  #z = self.w[0] * x[0] + self.w[1] * x[1] + self.b\n",
    "        a = self.sigmoid(z)\n",
    "        return a\n",
    "\n",
    "model_OR=logistic_regression_model()\n",
    "lr = 0.1\n",
    "\n",
    "def train(X,Y,model_OR,lr):\n",
    "    dw0=0.0\n",
    "    dw1=0.0\n",
    "    db=0.0\n",
    "    m=len(X)\n",
    "    cost=0.0\n",
    "    for x,y in zip(X,Y):\n",
    "        a=model_OR.predict(x)\n",
    "        if y==1:\n",
    "            cost -= log(a)\n",
    "        else:\n",
    "            cost -= log(1-a)\n",
    "            \n",
    "        dw0 += (a-y)*x[0]\n",
    "        dw1 += (a-y)*x[1]\n",
    "        db += (a-y)\n",
    "        \n",
    "    cost /= m\n",
    "    model_OR.w[0] -= lr*dw0/m\n",
    "    model_OR.w[1] -= lr*dw1/m\n",
    "    model_OR.b -= lr*db/m\n",
    "    \n",
    "    return cost\n",
    "\n",
    "xdata_1 = []\n",
    "ydata_1 = []\n",
    "\n",
    "for epoch in range(10000):\n",
    "    cost1 = train(X,Y,model_OR, lr)\n",
    "    \n",
    "    if epoch % 100 ==0:\n",
    "        print(epoch,cost1)\n",
    "        \n",
    "        xdata_1.append(epoch)\n",
    "        ydata_1.append(cost1)\n",
    "        "
   ]
  },
  {
   "cell_type": "code",
   "execution_count": 21,
   "metadata": {},
   "outputs": [
    {
     "data": {
      "text/plain": [
       "0.0204141868517643"
      ]
     },
     "execution_count": 21,
     "metadata": {},
     "output_type": "execute_result"
    }
   ],
   "source": [
    "model_OR.predict((0,0))"
   ]
  },
  {
   "cell_type": "code",
   "execution_count": 22,
   "metadata": {},
   "outputs": [
    {
     "data": {
      "text/plain": [
       "0.9918485856072069"
      ]
     },
     "execution_count": 22,
     "metadata": {},
     "output_type": "execute_result"
    }
   ],
   "source": [
    "model_OR.predict((0,1))"
   ]
  },
  {
   "cell_type": "code",
   "execution_count": 23,
   "metadata": {},
   "outputs": [
    {
     "data": {
      "text/plain": [
       "0.9918447709710072"
      ]
     },
     "execution_count": 23,
     "metadata": {},
     "output_type": "execute_result"
    }
   ],
   "source": [
    "model_OR.predict((1,0))"
   ]
  },
  {
   "cell_type": "code",
   "execution_count": 24,
   "metadata": {},
   "outputs": [
    {
     "data": {
      "text/plain": [
       "0.9999985917847771"
      ]
     },
     "execution_count": 24,
     "metadata": {},
     "output_type": "execute_result"
    }
   ],
   "source": [
    "model_OR.predict((1,1))"
   ]
  },
  {
   "cell_type": "code",
   "execution_count": 25,
   "metadata": {},
   "outputs": [],
   "source": [
    "class logistic_regression_model():\n",
    "    def __init__(self):\n",
    "        self.w = np.array([random.random(), random.random()])\n",
    "        self.b = np.random.normal() #np.array(random.random()) / np.random.normal()\n",
    "    \n",
    "    def sigmoid(self, z):\n",
    "        return 1/(1+exp(-z))\n",
    "    \n",
    "    def predict(self, x):\n",
    "        z = np.inner(self.w, x)+self.b  #z = self.w[0] * x[0] + self.w[1] * x[1] + self.b\n",
    "        a = self.sigmoid(z)\n",
    "        return a\n",
    "\n",
    "model_OR=logistic_regression_model()\n",
    "lr = 0.01\n",
    "\n",
    "def train(X,Y,model_OR,lr):\n",
    "    dw0=0.0\n",
    "    dw1=0.0\n",
    "    db=0.0\n",
    "    m=len(X)\n",
    "    cost=0.0\n",
    "    for x,y in zip(X,Y):\n",
    "        a=model_OR.predict(x)\n",
    "        if y==1:\n",
    "            cost -= log(a)\n",
    "        else:\n",
    "            cost -= log(1-a)\n",
    "            \n",
    "        dw0 += (a-y)*x[0]\n",
    "        dw1 += (a-y)*x[1]\n",
    "        db += (a-y)\n",
    "        \n",
    "    cost /= m\n",
    "    model_OR.w[0] -= lr*dw0/m\n",
    "    model_OR.w[1] -= lr*dw1/m\n",
    "    model_OR.b -= lr*db/m\n",
    "    \n",
    "    return cost\n",
    "\n",
    "xdata_2 = []\n",
    "ydata_2 = []\n",
    "\n",
    "for epoch in range(10000):\n",
    "    cost2 = train(X,Y,model_OR, lr)\n",
    "    \n",
    "    if epoch % 100 ==0:\n",
    "        #print(epoch,cost)\n",
    "        \n",
    "        xdata_2.append(epoch)\n",
    "        ydata_2.append(cost2)"
   ]
  },
  {
   "cell_type": "code",
   "execution_count": 26,
   "metadata": {},
   "outputs": [],
   "source": [
    "class logistic_regression_model():\n",
    "    def __init__(self):\n",
    "        self.w = np.array([random.random(), random.random()])\n",
    "        self.b = np.random.normal() #np.array(random.random()) / np.random.normal()\n",
    "    \n",
    "    def sigmoid(self, z):\n",
    "        return 1/(1+exp(-z))\n",
    "    \n",
    "    def predict(self, x):\n",
    "        z = np.inner(self.w, x)+self.b  #z = self.w[0] * x[0] + self.w[1] * x[1] + self.b\n",
    "        a = self.sigmoid(z)\n",
    "        return a\n",
    "\n",
    "model_OR=logistic_regression_model()\n",
    "lr = 0.7\n",
    "\n",
    "def train(X,Y,model_OR,lr):\n",
    "    dw0=0.0\n",
    "    dw1=0.0\n",
    "    db=0.0\n",
    "    m=len(X)\n",
    "    cost=0.0\n",
    "    for x,y in zip(X,Y):\n",
    "        a=model_OR.predict(x)\n",
    "        if y==1:\n",
    "            cost -= log(a)\n",
    "        else:\n",
    "            cost -= log(1-a)\n",
    "            \n",
    "        dw0 += (a-y)*x[0]\n",
    "        dw1 += (a-y)*x[1]\n",
    "        db += (a-y)\n",
    "        \n",
    "    cost /= m\n",
    "    model_OR.w[0] -= lr*dw0/m\n",
    "    model_OR.w[1] -= lr*dw1/m\n",
    "    model_OR.b -= lr*db/m\n",
    "    \n",
    "    return cost\n",
    "\n",
    "xdata_3 = []\n",
    "ydata_3 = []\n",
    "\n",
    "for epoch in range(10000):\n",
    "    cost3 = train(X,Y,model_OR, lr)\n",
    "    \n",
    "    if epoch % 100 ==0:\n",
    "        #print(epoch,cost)\n",
    "        \n",
    "        xdata_3.append(epoch)\n",
    "        ydata_3.append(cost3)"
   ]
  },
  {
   "cell_type": "code",
   "execution_count": 27,
   "metadata": {},
   "outputs": [
    {
     "data": {
      "image/png": "[encoded data removed]",
      "text/plain": [
       "<Figure size 432x288 with 1 Axes>"
      ]
     },
     "metadata": {
      "needs_background": "light"
     },
     "output_type": "display_data"
    }
   ],
   "source": [
    "plt.plot(xdata_1, ydata_1)\n",
    "plt.plot(xdata_2, ydata_2)\n",
    "plt.plot(xdata_3, ydata_3)\n",
    "\n",
    "plt.xlabel('epoch')\n",
    "plt.ylabel('loss')\n",
    "plt.legend(['0.1', '0.01', '0.7'])\n",
    "plt.show()"
   ]
  },
  {
   "cell_type": "code",
   "execution_count": 13,
   "metadata": {},
   "outputs": [],
   "source": [
    "#XOR\n",
    "\n",
    "import numpy as np\n",
    "import matplotlib.pyplot as plt\n",
    "import random\n",
    "from math import exp,log\n",
    "\n",
    "X = np.array([(0,0),(1,0),(0,1),(1,1)]) #X=[(0,0),(1,0),(0,1),(1,1)]\n",
    "Y = np.array([0,1,1,0]) #XOR operation\n"
   ]
  },
  {
   "cell_type": "code",
   "execution_count": 14,
   "metadata": {},
   "outputs": [
    {
     "name": "stdout",
     "output_type": "stream",
     "text": [
      "0 0.7390970343848593\n",
      "100 0.7003472853322033\n",
      "200 0.6964323305927563\n",
      "300 0.6946447190185087\n",
      "400 0.6938292529359842\n",
      "500 0.6934577774609503\n",
      "600 0.6932886225588315\n",
      "700 0.693211597536008\n",
      "800 0.693176520702369\n",
      "900 0.6931605451524492\n",
      "1000 0.6931532685235149\n",
      "1100 0.6931499539058283\n",
      "1200 0.6931484439762268\n",
      "1300 0.6931477561267351\n",
      "1400 0.6931474427700297\n",
      "1500 0.6931473000153688\n",
      "1600 0.6931472349806482\n",
      "1700 0.6931472053526301\n",
      "1800 0.6931471918548788\n",
      "1900 0.6931471857056428\n",
      "2000 0.693147182904202\n",
      "2100 0.6931471816279329\n",
      "2200 0.6931471810464951\n",
      "2300 0.6931471807816059\n",
      "2400 0.6931471806609286\n",
      "2500 0.693147180605951\n",
      "2600 0.6931471805809044\n",
      "2700 0.6931471805694939\n",
      "2800 0.6931471805642954\n",
      "2900 0.693147180561927\n",
      "3000 0.6931471805608481\n",
      "3100 0.6931471805603566\n",
      "3200 0.6931471805601328\n",
      "3300 0.6931471805600307\n",
      "3400 0.6931471805599843\n",
      "3500 0.693147180559963\n",
      "3600 0.6931471805599535\n",
      "3700 0.693147180559949\n",
      "3800 0.693147180559947\n",
      "3900 0.6931471805599462\n",
      "4000 0.6931471805599456\n",
      "4100 0.6931471805599454\n",
      "4200 0.6931471805599454\n",
      "4300 0.6931471805599454\n",
      "4400 0.6931471805599454\n",
      "4500 0.6931471805599453\n",
      "4600 0.6931471805599453\n",
      "4700 0.6931471805599453\n",
      "4800 0.6931471805599453\n",
      "4900 0.6931471805599453\n",
      "5000 0.6931471805599453\n",
      "5100 0.6931471805599453\n",
      "5200 0.6931471805599453\n",
      "5300 0.6931471805599453\n",
      "5400 0.6931471805599453\n",
      "5500 0.6931471805599453\n",
      "5600 0.6931471805599453\n",
      "5700 0.6931471805599453\n",
      "5800 0.6931471805599454\n",
      "5900 0.6931471805599453\n",
      "6000 0.6931471805599453\n",
      "6100 0.6931471805599454\n",
      "6200 0.6931471805599453\n",
      "6300 0.6931471805599452\n",
      "6400 0.6931471805599453\n",
      "6500 0.6931471805599454\n",
      "6600 0.6931471805599453\n",
      "6700 0.6931471805599452\n",
      "6800 0.6931471805599453\n",
      "6900 0.6931471805599452\n",
      "7000 0.6931471805599452\n",
      "7100 0.6931471805599453\n",
      "7200 0.6931471805599452\n",
      "7300 0.6931471805599452\n",
      "7400 0.6931471805599453\n",
      "7500 0.6931471805599453\n",
      "7600 0.6931471805599453\n",
      "7700 0.6931471805599453\n",
      "7800 0.6931471805599453\n",
      "7900 0.6931471805599452\n",
      "8000 0.6931471805599452\n",
      "8100 0.6931471805599452\n",
      "8200 0.6931471805599453\n",
      "8300 0.6931471805599454\n",
      "8400 0.6931471805599453\n",
      "8500 0.6931471805599453\n",
      "8600 0.6931471805599454\n",
      "8700 0.6931471805599452\n",
      "8800 0.6931471805599452\n",
      "8900 0.6931471805599453\n",
      "9000 0.6931471805599453\n",
      "9100 0.6931471805599453\n",
      "9200 0.6931471805599453\n",
      "9300 0.6931471805599453\n",
      "9400 0.6931471805599453\n",
      "9500 0.6931471805599453\n",
      "9600 0.6931471805599453\n",
      "9700 0.6931471805599453\n",
      "9800 0.6931471805599453\n",
      "9900 0.6931471805599453\n"
     ]
    }
   ],
   "source": [
    "class logistic_regression_model():\n",
    "    def __init__(self):\n",
    "        self.w = np.array([random.random(), random.random()])\n",
    "        self.b = np.random.normal()\n",
    "    \n",
    "    def sigmoid(self, z):\n",
    "        return 1/(1+exp(-z))\n",
    "    \n",
    "    def predict(self, x):\n",
    "        z = np.inner(self.w, x)+self.b  #z = self.w[0] * x[0] + self.w[1] * x[1] + self.b\n",
    "        a = self.sigmoid(z)\n",
    "        return a\n",
    "\n",
    "model_XOR=logistic_regression_model()\n",
    "lr = 0.1\n",
    "\n",
    "def train(X,Y,model_XOR,lr):\n",
    "    dw0=0.0\n",
    "    dw1=0.0\n",
    "    db=0.0\n",
    "    m=len(X)\n",
    "    cost=0.0\n",
    "    for x,y in zip(X,Y):\n",
    "        a=model_XOR.predict(x)\n",
    "        if y==1:\n",
    "            cost -= log(a)\n",
    "        else:\n",
    "            cost -= log(1-a)\n",
    "            \n",
    "        dw0 += (a-y)*x[0]\n",
    "        dw1 += (a-y)*x[1]\n",
    "        db += (a-y)\n",
    "        \n",
    "    cost /= m\n",
    "    model_XOR.w[0] -= lr*dw0/m\n",
    "    model_XOR.w[1] -= lr*dw1/m\n",
    "    model_XOR.b -= lr*db/m\n",
    "    \n",
    "    return cost\n",
    "\n",
    "xdata_1 = []\n",
    "ydata_1 = []\n",
    "\n",
    "for epoch in range(10000):\n",
    "    cost1 = train(X,Y,model_XOR, lr)\n",
    "    \n",
    "    if epoch % 100 ==0:\n",
    "        print(epoch,cost1)\n",
    "        \n",
    "        xdata_1.append(epoch)\n",
    "        ydata_1.append(cost1)"
   ]
  },
  {
   "cell_type": "code",
   "execution_count": 15,
   "metadata": {},
   "outputs": [
    {
     "data": {
      "text/plain": [
       "0.5"
      ]
     },
     "execution_count": 15,
     "metadata": {},
     "output_type": "execute_result"
    }
   ],
   "source": [
    "model_XOR.predict((0,0))"
   ]
  },
  {
   "cell_type": "code",
   "execution_count": 16,
   "metadata": {},
   "outputs": [
    {
     "data": {
      "text/plain": [
       "0.5"
      ]
     },
     "execution_count": 16,
     "metadata": {},
     "output_type": "execute_result"
    }
   ],
   "source": [
    "model_XOR.predict((0,1))"
   ]
  },
  {
   "cell_type": "code",
   "execution_count": 17,
   "metadata": {},
   "outputs": [
    {
     "data": {
      "text/plain": [
       "0.5"
      ]
     },
     "execution_count": 17,
     "metadata": {},
     "output_type": "execute_result"
    }
   ],
   "source": [
    "model_XOR.predict((1,0))"
   ]
  },
  {
   "cell_type": "code",
   "execution_count": 18,
   "metadata": {},
   "outputs": [
    {
     "data": {
      "text/plain": [
       "0.5"
      ]
     },
     "execution_count": 18,
     "metadata": {},
     "output_type": "execute_result"
    }
   ],
   "source": [
    "model_XOR.predict((1,1))"
   ]
  },
  {
   "cell_type": "code",
   "execution_count": 19,
   "metadata": {},
   "outputs": [],
   "source": [
    "class logistic_regression_model():\n",
    "    def __init__(self):\n",
    "        self.w = np.array([random.random(), random.random()])\n",
    "        self.b = np.random.normal() #np.array(random.random()) / np.random.normal()\n",
    "    \n",
    "    def sigmoid(self, z):\n",
    "        return 1/(1+exp(-z))\n",
    "    \n",
    "    def predict(self, x):\n",
    "        z = np.inner(self.w, x)+self.b  #z = self.w[0] * x[0] + self.w[1] * x[1] + self.b\n",
    "        a = self.sigmoid(z)\n",
    "        return a\n",
    "\n",
    "model_XOR=logistic_regression_model()\n",
    "lr = 0.01\n",
    "\n",
    "def train(X,Y,model_XOR,lr):\n",
    "    dw0=0.0\n",
    "    dw1=0.0\n",
    "    db=0.0\n",
    "    m=len(X)\n",
    "    cost=0.0\n",
    "    for x,y in zip(X,Y):\n",
    "        a=model_XOR.predict(x)\n",
    "        if y==1:\n",
    "            cost -= log(a)\n",
    "        else:\n",
    "            cost -= log(1-a)\n",
    "            \n",
    "        dw0 += (a-y)*x[0]\n",
    "        dw1 += (a-y)*x[1]\n",
    "        db += (a-y)\n",
    "        \n",
    "    cost /= m\n",
    "    model_XOR.w[0] -= lr*dw0/m\n",
    "    model_XOR.w[1] -= lr*dw1/m\n",
    "    model_XOR.b -= lr*db/m\n",
    "    \n",
    "    return cost\n",
    "\n",
    "xdata_2 = []\n",
    "ydata_2 = []\n",
    "\n",
    "for epoch in range(10000):\n",
    "    cost2 = train(X,Y,model_XOR, lr)\n",
    "    \n",
    "    if epoch % 100 ==0:\n",
    "        #print(epoch,cost)\n",
    "        \n",
    "        xdata_2.append(epoch)\n",
    "        ydata_2.append(cost2)"
   ]
  },
  {
   "cell_type": "code",
   "execution_count": 20,
   "metadata": {},
   "outputs": [],
   "source": [
    "class logistic_regression_model():\n",
    "    def __init__(self):\n",
    "        self.w = np.array([random.random(), random.random()])\n",
    "        self.b = np.random.normal() #np.array(random.random()) / np.random.normal()\n",
    "    \n",
    "    def sigmoid(self, z):\n",
    "        return 1/(1+exp(-z))\n",
    "    \n",
    "    def predict(self, x):\n",
    "        z = np.inner(self.w, x)+self.b  #z = self.w[0] * x[0] + self.w[1] * x[1] + self.b\n",
    "        a = self.sigmoid(z)\n",
    "        return a\n",
    "\n",
    "model_XOR=logistic_regression_model()\n",
    "lr = 0.7\n",
    "\n",
    "def train(X,Y,model_XOR,lr):\n",
    "    dw0=0.0\n",
    "    dw1=0.0\n",
    "    db=0.0\n",
    "    m=len(X)\n",
    "    cost=0.0\n",
    "    for x,y in zip(X,Y):\n",
    "        a=model_XOR.predict(x)\n",
    "        if y==1:\n",
    "            cost -= log(a)\n",
    "        else:\n",
    "            cost -= log(1-a)\n",
    "            \n",
    "        dw0 += (a-y)*x[0]\n",
    "        dw1 += (a-y)*x[1]\n",
    "        db += (a-y)\n",
    "        \n",
    "    cost /= m\n",
    "    model_XOR.w[0] -= lr*dw0/m\n",
    "    model_XOR.w[1] -= lr*dw1/m\n",
    "    model_XOR.b -= lr*db/m\n",
    "    \n",
    "    return cost\n",
    "\n",
    "xdata_3 = []\n",
    "ydata_3 = []\n",
    "\n",
    "for epoch in range(10000):\n",
    "    cost3 = train(X,Y,model_XOR, lr)\n",
    "    \n",
    "    if epoch % 100 ==0:\n",
    "        #print(epoch,cost)\n",
    "        \n",
    "        xdata_3.append(epoch)\n",
    "        ydata_3.append(cost3)"
   ]
  },
  {
   "cell_type": "code",
   "execution_count": 21,
   "metadata": {},
   "outputs": [
    {
     "data": {
      "image/png": "[encoded data removed]",
      "text/plain": [
       "<Figure size 432x288 with 1 Axes>"
      ]
     },
     "metadata": {
      "needs_background": "light"
     },
     "output_type": "display_data"
    }
   ],
   "source": [
    "plt.plot(xdata_1, ydata_1)\n",
    "plt.plot(xdata_2, ydata_2)\n",
    "plt.plot(xdata_3, ydata_3)\n",
    "\n",
    "plt.xlabel('epoch')\n",
    "plt.ylabel('loss')\n",
    "plt.legend(['0.1', '0.01', '0.7'])\n",
    "plt.show()"
   ]
  },
  {
   "cell_type": "code",
   "execution_count": null,
   "metadata": {},
   "outputs": [],
   "source": []
  }
 ],
 "metadata": {
  "kernelspec": {
   "display_name": "Python 3",
   "language": "python",
   "name": "python3"
  },
  "language_info": {
   "codemirror_mode": {
    "name": "ipython",
    "version": 3
   },
   "file_extension": ".py",
   "mimetype": "text/x-python",
   "name": "python",
   "nbconvert_exporter": "python",
   "pygments_lexer": "ipython3",
   "version": "3.7.6"
  }
 },
 "nbformat": 4,
 "nbformat_minor": 4
}
